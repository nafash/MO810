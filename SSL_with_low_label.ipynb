{
  "nbformat": 4,
  "nbformat_minor": 0,
  "metadata": {
    "colab": {
      "provenance": []
    },
    "kernelspec": {
      "name": "python3",
      "display_name": "Python 3"
    },
    "language_info": {
      "name": "python"
    }
  },
  "cells": [
    {
      "cell_type": "code",
      "execution_count": 3,
      "metadata": {
        "colab": {
          "base_uri": "https://localhost:8080/"
        },
        "id": "CB8aRTJSlTbp",
        "outputId": "2bd51d15-8e84-4522-9db7-3ebe907d4ae9"
      },
      "outputs": [
        {
          "output_type": "stream",
          "name": "stdout",
          "text": [
            "\u001b[?25l   \u001b[90m━━━━━━━━━━━━━━━━━━━━━━━━━━━━━━━━━━━━━━━━\u001b[0m \u001b[32m0.0/374.4 kB\u001b[0m \u001b[31m?\u001b[0m eta \u001b[36m-:--:--\u001b[0m\r\u001b[2K   \u001b[91m━━━━━━━━━━━━━━━━\u001b[0m\u001b[90m╺\u001b[0m\u001b[90m━━━━━━━━━━━━━━━━━━━━━━━\u001b[0m \u001b[32m153.6/374.4 kB\u001b[0m \u001b[31m4.4 MB/s\u001b[0m eta \u001b[36m0:00:01\u001b[0m\r\u001b[2K   \u001b[90m━━━━━━━━━━━━━━━━━━━━━━━━━━━━━━━━━━━━━━━━\u001b[0m \u001b[32m374.4/374.4 kB\u001b[0m \u001b[31m5.9 MB/s\u001b[0m eta \u001b[36m0:00:00\u001b[0m\n",
            "\u001b[?25h"
          ]
        }
      ],
      "source": [
        "# 1. Instalação de dependências\n",
        "!pip install -q tslearn scikit-learn umap-learn matplotlib seaborn"
      ]
    },
    {
      "cell_type": "code",
      "source": [
        "import numpy as np\n",
        "import matplotlib.pyplot as plt\n",
        "import seaborn as sns\n",
        "from sklearn.model_selection import train_test_split\n",
        "from sklearn.preprocessing import StandardScaler\n",
        "from sklearn.metrics import accuracy_score, f1_score, silhouette_score\n",
        "from sklearn.linear_model import LogisticRegression\n",
        "from sklearn.neighbors import KNeighborsClassifier\n",
        "from sklearn.manifold import TSNE\n",
        "from tslearn.datasets import UCR_UEA_datasets\n",
        "import torch\n",
        "import torch.nn as nn\n",
        "import torch.optim as optim\n",
        "from torch.utils.data import Dataset, DataLoader"
      ],
      "metadata": {
        "id": "0uIp-dsdlVLE"
      },
      "execution_count": 4,
      "outputs": []
    },
    {
      "cell_type": "code",
      "source": [
        "# 3. Carregamento e Pré-processamento\n",
        "ucr = UCR_UEA_datasets()\n",
        "X, y, _, _ = ucr.load_dataset(\"ECG5000\")"
      ],
      "metadata": {
        "id": "MUs7egBolmWe"
      },
      "execution_count": 5,
      "outputs": []
    },
    {
      "cell_type": "code",
      "source": [
        "# Normalização\n",
        "X = X.reshape((X.shape[0], X.shape[1]))\n",
        "scaler = StandardScaler()\n",
        "X_scaled = scaler.fit_transform(X)"
      ],
      "metadata": {
        "id": "cQHrC6UPloyi"
      },
      "execution_count": 6,
      "outputs": []
    },
    {
      "cell_type": "code",
      "source": [
        "# Separação\n",
        "X_train, X_test, y_train, y_test = train_test_split(X_scaled, y, test_size=0.9, random_state=42, stratify=y)\n"
      ],
      "metadata": {
        "id": "oi7v9h6zlri7"
      },
      "execution_count": 7,
      "outputs": []
    },
    {
      "cell_type": "code",
      "source": [
        "# 4. Dataset personalizado\n",
        "class ECGDataset(Dataset):\n",
        "    def __init__(self, data, labels=None):\n",
        "        self.data = torch.tensor(data, dtype=torch.float32).unsqueeze(1)\n",
        "        self.labels = torch.tensor(labels, dtype=torch.long) if labels is not None else None\n",
        "\n",
        "    def __len__(self):\n",
        "        return len(self.data)\n",
        "\n",
        "    def __getitem__(self, idx):\n",
        "        return (self.data[idx], self.labels[idx]) if self.labels is not None else self.data[idx]\n",
        "\n",
        "train_dataset = ECGDataset(X_train, y_train)\n",
        "test_dataset = ECGDataset(X_test, y_test)"
      ],
      "metadata": {
        "id": "PBUNNdGtlunI"
      },
      "execution_count": 8,
      "outputs": []
    },
    {
      "cell_type": "code",
      "source": [
        "# 5. Backbone CNN-1D simples\n",
        "class CNN1D(nn.Module):\n",
        "    def __init__(self):\n",
        "        super().__init__()\n",
        "        self.encoder = nn.Sequential(\n",
        "            nn.Conv1d(1, 32, 5, padding=2), nn.ReLU(),\n",
        "            nn.Conv1d(32, 64, 5, padding=2), nn.ReLU(),\n",
        "            nn.AdaptiveAvgPool1d(1)\n",
        "        )\n",
        "\n",
        "    def forward(self, x):\n",
        "        return self.encoder(x).squeeze(-1)"
      ],
      "metadata": {
        "id": "6K73sFQBlxY7"
      },
      "execution_count": 10,
      "outputs": []
    },
    {
      "cell_type": "code",
      "source": [
        "# 6. Tarefa SimCLR (versão simples com jittering)\n",
        "def jitter(x, sigma=0.03):\n",
        "    return x + sigma * torch.randn_like(x)\n",
        "\n",
        "def simclr_loss(z1, z2, temperature=0.5):\n",
        "    z1 = nn.functional.normalize(z1, dim=1)\n",
        "    z2 = nn.functional.normalize(z2, dim=1)\n",
        "    representations = torch.cat([z1, z2], dim=0)\n",
        "    similarity_matrix = torch.matmul(representations, representations.T)\n",
        "    labels = torch.arange(z1.shape[0])\n",
        "    labels = torch.cat([labels, labels], dim=0).to(z1.device)\n",
        "\n",
        "    mask = torch.eye(labels.shape[0], dtype=torch.bool).to(z1.device)\n",
        "    logits = similarity_matrix[~mask].view(labels.shape[0], -1) / temperature\n",
        "\n",
        "    positives = torch.sum(z1 * z2, dim=-1).repeat(2)\n",
        "    loss = -torch.log(torch.exp(positives / temperature) / torch.sum(torch.exp(logits), dim=-1))\n",
        "    return loss.mean()"
      ],
      "metadata": {
        "id": "_Cqehwi0lz4N"
      },
      "execution_count": 12,
      "outputs": []
    },
    {
      "cell_type": "code",
      "source": [
        "# 7. Treinamento SSL SimCLR\n",
        "device = torch.device(\"cuda\" if torch.cuda.is_available() else \"cpu\")\n",
        "model = CNN1D().to(device)\n",
        "optimizer = optim.Adam(model.parameters(), lr=1e-3)\n",
        "loader = DataLoader(train_dataset, batch_size=64, shuffle=True)\n",
        "\n",
        "for epoch in range(100):\n",
        "    model.train()\n",
        "    total_loss = 0\n",
        "    for batch in loader:\n",
        "        x, _ = batch\n",
        "        x = x.to(device)\n",
        "        x1 = jitter(x)\n",
        "        x2 = jitter(x)\n",
        "        z1 = model(x1)\n",
        "        z2 = model(x2)\n",
        "        loss = simclr_loss(z1, z2)\n",
        "        optimizer.zero_grad()\n",
        "        loss.backward()\n",
        "        optimizer.step()\n",
        "        total_loss += loss.item()\n",
        "    print(f\"Epoch {epoch+1}, Loss: {total_loss:.4f}\")"
      ],
      "metadata": {
        "colab": {
          "base_uri": "https://localhost:8080/"
        },
        "id": "ZgXDBBiTl23x",
        "outputId": "45a966d3-c0fb-45fa-c9e2-54efc89ec3a9"
      },
      "execution_count": 13,
      "outputs": [
        {
          "output_type": "stream",
          "name": "stdout",
          "text": [
            "Epoch 1, Loss: 4.5241\n",
            "Epoch 2, Loss: 4.5057\n",
            "Epoch 3, Loss: 4.4863\n",
            "Epoch 4, Loss: 4.4657\n",
            "Epoch 5, Loss: 4.4450\n",
            "Epoch 6, Loss: 4.4229\n",
            "Epoch 7, Loss: 4.4011\n",
            "Epoch 8, Loss: 4.3781\n",
            "Epoch 9, Loss: 4.3542\n",
            "Epoch 10, Loss: 4.3284\n",
            "Epoch 11, Loss: 4.3023\n",
            "Epoch 12, Loss: 4.2742\n",
            "Epoch 13, Loss: 4.2453\n",
            "Epoch 14, Loss: 4.2134\n",
            "Epoch 15, Loss: 4.1788\n",
            "Epoch 16, Loss: 4.1425\n",
            "Epoch 17, Loss: 4.1020\n",
            "Epoch 18, Loss: 4.0591\n",
            "Epoch 19, Loss: 4.0120\n",
            "Epoch 20, Loss: 3.9597\n",
            "Epoch 21, Loss: 3.9016\n",
            "Epoch 22, Loss: 3.8424\n",
            "Epoch 23, Loss: 3.7792\n",
            "Epoch 24, Loss: 3.7164\n",
            "Epoch 25, Loss: 3.6542\n",
            "Epoch 26, Loss: 3.5879\n",
            "Epoch 27, Loss: 3.5032\n",
            "Epoch 28, Loss: 3.4017\n",
            "Epoch 29, Loss: 3.3081\n",
            "Epoch 30, Loss: 3.2303\n",
            "Epoch 31, Loss: 3.1612\n",
            "Epoch 32, Loss: 3.1333\n",
            "Epoch 33, Loss: 3.1042\n",
            "Epoch 34, Loss: 3.1373\n",
            "Epoch 35, Loss: 3.1169\n",
            "Epoch 36, Loss: 3.1039\n",
            "Epoch 37, Loss: 3.0955\n",
            "Epoch 38, Loss: 3.0784\n",
            "Epoch 39, Loss: 3.0462\n",
            "Epoch 40, Loss: 3.0134\n",
            "Epoch 41, Loss: 3.0266\n",
            "Epoch 42, Loss: 3.0227\n",
            "Epoch 43, Loss: 3.0272\n",
            "Epoch 44, Loss: 2.9950\n",
            "Epoch 45, Loss: 3.0105\n",
            "Epoch 46, Loss: 3.0822\n",
            "Epoch 47, Loss: 3.0733\n",
            "Epoch 48, Loss: 3.0601\n",
            "Epoch 49, Loss: 3.0643\n",
            "Epoch 50, Loss: 3.0557\n",
            "Epoch 51, Loss: 3.0837\n",
            "Epoch 52, Loss: 3.0695\n",
            "Epoch 53, Loss: 3.0748\n",
            "Epoch 54, Loss: 3.1083\n",
            "Epoch 55, Loss: 3.1459\n",
            "Epoch 56, Loss: 3.2358\n",
            "Epoch 57, Loss: 3.1709\n",
            "Epoch 58, Loss: 3.2698\n",
            "Epoch 59, Loss: 3.2271\n",
            "Epoch 60, Loss: 3.1824\n",
            "Epoch 61, Loss: 3.2591\n",
            "Epoch 62, Loss: 3.1974\n",
            "Epoch 63, Loss: 3.1526\n",
            "Epoch 64, Loss: 3.2159\n",
            "Epoch 65, Loss: 3.2635\n",
            "Epoch 66, Loss: 3.2299\n",
            "Epoch 67, Loss: 3.2042\n",
            "Epoch 68, Loss: 3.2801\n",
            "Epoch 69, Loss: 3.3179\n",
            "Epoch 70, Loss: 3.3156\n",
            "Epoch 71, Loss: 3.4194\n",
            "Epoch 72, Loss: 3.4501\n",
            "Epoch 73, Loss: 3.4472\n",
            "Epoch 74, Loss: 3.4447\n",
            "Epoch 75, Loss: 3.4390\n",
            "Epoch 76, Loss: 3.4517\n",
            "Epoch 77, Loss: 3.4406\n",
            "Epoch 78, Loss: 3.4450\n",
            "Epoch 79, Loss: 3.4685\n",
            "Epoch 80, Loss: 3.4327\n",
            "Epoch 81, Loss: 3.4069\n",
            "Epoch 82, Loss: 3.3420\n",
            "Epoch 83, Loss: 3.3720\n",
            "Epoch 84, Loss: 3.3753\n",
            "Epoch 85, Loss: 3.3732\n",
            "Epoch 86, Loss: 3.3695\n",
            "Epoch 87, Loss: 3.3715\n",
            "Epoch 88, Loss: 3.4050\n",
            "Epoch 89, Loss: 3.4023\n",
            "Epoch 90, Loss: 3.3728\n",
            "Epoch 91, Loss: 3.4686\n",
            "Epoch 92, Loss: 3.4367\n",
            "Epoch 93, Loss: 3.4362\n",
            "Epoch 94, Loss: 3.5030\n",
            "Epoch 95, Loss: 3.4362\n",
            "Epoch 96, Loss: 3.4661\n",
            "Epoch 97, Loss: 3.4761\n",
            "Epoch 98, Loss: 3.5103\n",
            "Epoch 99, Loss: 3.5112\n",
            "Epoch 100, Loss: 3.4714\n"
          ]
        }
      ]
    },
    {
      "cell_type": "code",
      "source": [
        "# 8. Extração de embeddings\n",
        "def extract_embeddings(model, dataset):\n",
        "    loader = DataLoader(dataset, batch_size=64)\n",
        "    model.eval()\n",
        "    embeddings = []\n",
        "    labels = []\n",
        "    with torch.no_grad():\n",
        "        for batch in loader:\n",
        "            x, y = batch\n",
        "            x = x.to(device)\n",
        "            z = model(x)\n",
        "            embeddings.append(z.cpu().numpy())\n",
        "            labels.append(y.numpy())\n",
        "    return np.concatenate(embeddings), np.concatenate(labels)\n",
        "\n",
        "emb_train, y_train = extract_embeddings(model, train_dataset)\n",
        "emb_test, y_test = extract_embeddings(model, test_dataset)\n"
      ],
      "metadata": {
        "id": "1FN1bbAvl8nz"
      },
      "execution_count": 14,
      "outputs": []
    },
    {
      "cell_type": "code",
      "source": [
        "# 9. Classificação Linear Probe\n",
        "clf = LogisticRegression(max_iter=1000).fit(emb_train, y_train)\n",
        "y_pred = clf.predict(emb_test)\n",
        "print(\"Accuracy:\", accuracy_score(y_test, y_pred))\n",
        "print(\"F1 Score (macro):\", f1_score(y_test, y_pred, average=\"macro\"))"
      ],
      "metadata": {
        "colab": {
          "base_uri": "https://localhost:8080/"
        },
        "id": "jO5hwmEkl_gL",
        "outputId": "840ea002-8042-4011-9c2b-065eb964e206"
      },
      "execution_count": 15,
      "outputs": [
        {
          "output_type": "stream",
          "name": "stdout",
          "text": [
            "Accuracy: 0.5844444444444444\n",
            "F1 Score (macro): 0.14754558204768584\n"
          ]
        }
      ]
    },
    {
      "cell_type": "code",
      "source": [
        "# 10. k-NN no espaço latente\n",
        "knn = KNeighborsClassifier(n_neighbors=5).fit(emb_train, y_train)\n",
        "y_knn = knn.predict(emb_test)\n",
        "print(\"k-NN Accuracy (no rótulo supervisionado):\", accuracy_score(y_test, y_knn))"
      ],
      "metadata": {
        "colab": {
          "base_uri": "https://localhost:8080/"
        },
        "id": "xMYBNz4JmCPi",
        "outputId": "c0cbd9a2-9a91-4799-d99c-4acfccc01beb"
      },
      "execution_count": 16,
      "outputs": [
        {
          "output_type": "stream",
          "name": "stdout",
          "text": [
            "k-NN Accuracy (no rótulo supervisionado): 0.6288888888888889\n"
          ]
        }
      ]
    },
    {
      "cell_type": "code",
      "source": [
        "# 11. Métrica de Silhouette\n",
        "silhouette = silhouette_score(emb_test, y_test)\n",
        "print(\"Silhouette Score:\", silhouette)"
      ],
      "metadata": {
        "colab": {
          "base_uri": "https://localhost:8080/"
        },
        "id": "hkfNLe4kmEZU",
        "outputId": "920d83fe-d60e-4126-8fa2-487b6ba77223"
      },
      "execution_count": 17,
      "outputs": [
        {
          "output_type": "stream",
          "name": "stdout",
          "text": [
            "Silhouette Score: -0.07083187\n"
          ]
        }
      ]
    },
    {
      "cell_type": "code",
      "source": [
        "# 12. Visualização com t-SNE\n",
        "def plot_projection(embeddings, labels, title=\"t-SNE\"):\n",
        "    plt.figure(figsize=(8,6))\n",
        "    sns.scatterplot(x=embeddings[:,0], y=embeddings[:,1], hue=labels, palette=\"tab10\", s=30)\n",
        "    plt.title(title)\n",
        "    plt.legend(loc='best')\n",
        "    plt.show()"
      ],
      "metadata": {
        "id": "YD_Gv96emGbv"
      },
      "execution_count": 18,
      "outputs": []
    },
    {
      "cell_type": "code",
      "source": [
        "# t-SNE\n",
        "tsne_proj = TSNE(n_components=2, perplexity=30, random_state=42).fit_transform(emb_test)\n",
        "plot_projection(tsne_proj, y_test, title=\"With low labels\")"
      ],
      "metadata": {
        "colab": {
          "base_uri": "https://localhost:8080/",
          "height": 545
        },
        "id": "eDoqveoDmJf4",
        "outputId": "a081bb9b-f558-4336-843a-834c94854f6a"
      },
      "execution_count": 20,
      "outputs": [
        {
          "output_type": "display_data",
          "data": {
            "text/plain": [
              "<Figure size 800x600 with 1 Axes>"
            ],
            "image/png": "[encoded data removed]"
          },
          "metadata": {}
        }
      ]
    }
  ]
}